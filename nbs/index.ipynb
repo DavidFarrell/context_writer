{
 "cells": [
  {
   "cell_type": "markdown",
   "metadata": {},
   "source": [
    "# context_writer\n",
    "\n",
    "> A tool for writing that offers AI support with significant control over context"
   ]
  },
  {
   "cell_type": "markdown",
   "metadata": {},
   "source": [
    "This is a writing tool built with nbdev, FastHTML, and Google's Gemini AI. It provides writers with fine-grained control over the context provided to the AI assistant, enabling more focused and relevant writing support.\n",
    "\n",
    "## Features\n",
    "\n",
    "- **Context Management**: Full control over what information the AI sees\n",
    "- **Writing Assistance**: Powered by Google's Gemini models\n",
    "- **Web Interface**: Clean, simple interface built with FastHTML\n",
    "- **Notebook-Driven Development**: Built using nbdev for literate programming"
   ]
  },
  {
   "cell_type": "markdown",
   "metadata": {},
   "source": [
    "## Install"
   ]
  },
  {
   "cell_type": "markdown",
   "metadata": {},
   "source": [
    "```sh\n",
    "pip install context_writer\n",
    "```"
   ]
  },
  {
   "cell_type": "markdown",
   "metadata": {},
   "source": [
    "## How to use"
   ]
  },
  {
   "cell_type": "markdown",
   "metadata": {},
   "source": [
    "Here's a quick example of what the context_writer package provides:\n",
    "\n",
    "```python\n",
    "from context_writer.core import get_secret_word, AppConfig\n",
    "\n",
    "# Get the secret word\n",
    "secret = get_secret_word()\n",
    "print(f\"Secret word: {secret}\")  # Output: 🚀 NBDEV-POWERED\n",
    "\n",
    "# Create an app configuration\n",
    "config = AppConfig(\"My Writing App\")\n",
    "print(f\"App title: {config.get_title()}\")  # Output: My Writing App - 🚀 NBDEV-POWERED\n",
    "print(f\"App info: {config.get_info()}\")    # Output: dict with app details\n",
    "```"
   ]
  },
  {
   "cell_type": "markdown",
   "metadata": {},
   "source": [
    "## Development\n",
    "\n",
    "This project is built using nbdev. To contribute:\n",
    "\n",
    "1. Edit notebooks in the `nbs/` directory\n",
    "2. Run `nbdev_export` to generate Python modules\n",
    "3. Run `nbdev_test` to run tests\n",
    "4. Run `nbdev_docs` to generate documentation\n",
    "5. Run `nbdev_prepare` before committing (combines export, test, and clean)"
   ]
  },
  {
   "cell_type": "code",
   "execution_count": 1,
   "metadata": {},
   "outputs": [
    {
     "name": "stdout",
     "output_type": "stream",
     "text": [
      "✅ Index notebook loads successfully!\n",
      "📚 See individual notebooks for implementation details:\n",
      "   - 00_init.ipynb: Package initialization\n",
      "   - 01_core.ipynb: Core functionality\n"
     ]
    }
   ],
   "source": [
    "# This notebook runs independently without any imports\n",
    "print(\"✅ Index notebook loads successfully!\")\n",
    "print(\"📚 See individual notebooks for implementation details:\")\n",
    "print(\"   - 00_init.ipynb: Package initialization\")\n",
    "print(\"   - 01_core.ipynb: Core functionality\")"
   ]
  },
  {
   "cell_type": "code",
   "execution_count": null,
   "metadata": {},
   "outputs": [],
   "source": []
  }
 ],
 "metadata": {
  "kernelspec": {
   "display_name": ".venv",
   "language": "python",
   "name": "python3"
  },
  "language_info": {
   "codemirror_mode": {
    "name": "ipython",
    "version": 3
   },
   "file_extension": ".py",
   "mimetype": "text/x-python",
   "name": "python",
   "nbconvert_exporter": "python",
   "pygments_lexer": "ipython3",
   "version": "3.12.8"
  }
 },
 "nbformat": 4,
 "nbformat_minor": 4
}
