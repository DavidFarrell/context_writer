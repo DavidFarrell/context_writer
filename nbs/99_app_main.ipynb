{
 "cells": [
  {
   "cell_type": "markdown",
   "id": "24d5ab0e",
   "metadata": {},
   "source": [
    "# Main App"
   ]
  },
  {
   "cell_type": "code",
   "execution_count": null,
   "id": "1166a01b",
   "metadata": {},
   "outputs": [],
   "source": [
    "#| default_exp main_app"
   ]
  },
  {
   "cell_type": "markdown",
   "id": "246729ec",
   "metadata": {},
   "source": [
    "## Imports"
   ]
  },
  {
   "cell_type": "code",
   "execution_count": null,
   "id": "76885479",
   "metadata": {},
   "outputs": [],
   "source": "#| export\nfrom fasthtml.common import *\nfrom monsterui.all import *\n\n# Import from our nbdev package\nfrom context_writer.core import get_secret_word, AppConfig\nfrom context_writer.gemini_experiments import setup_gemini_routes\n\napp, rt = fast_app(hdrs=Theme.blue.headers())\n\n# Create an instance of our config\nconfig = AppConfig(\"Context Writer App\")"
  },
  {
   "cell_type": "markdown",
   "id": "ba3bc138",
   "metadata": {},
   "source": [
    "# Routes"
   ]
  },
  {
   "cell_type": "code",
   "execution_count": 7,
   "id": "6c8ca588",
   "metadata": {},
   "outputs": [],
   "source": [
    "#| export\n",
    "\n",
    "@rt\n",
    "def index():\n",
    "    # the main index page\n",
    "    secret = get_secret_word()\n",
    "    \n",
    "    return Container(\n",
    "        H1(config.get_title()),  # Uses the title from our nbdev class\n",
    "        Subtitle(f\"The secret word is: {secret}\"),  # Shows the secret word directly\n",
    "        Card(\n",
    "            H3(\"Package Info\"),\n",
    "            *[P(f\"{k}: {v}\") for k, v in config.get_info().items()]\n",
    "        ),\n",
    "        Subtitle(\"To show how you can control it with MCP\"),\n",
    "        P(\"Steps:\"),\n",
    "        Ol(\n",
    "            Li(\"Install fastmcp python library\"),\n",
    "            Li(\"Install the mcp server in claude code using fastmcp `fastmcp install claude-code --server-spec mcp_server.py`\"),\n",
    "            Li(\"Open claude code and do `/mcp` to verify it's connected\"),\n",
    "            Li(\"Ask claude code to `Try to start the app with the tool, press the button, and then get the broser console log of what the error is`\")\n",
    "        ),\n",
    "        Button(\"Example Broken Button\", hx_get=\"/aroute\", hx_target=\"#broken-content\"),\n",
    "    )"
   ]
  },
  {
   "cell_type": "code",
   "execution_count": null,
   "id": "d38794d6",
   "metadata": {},
   "outputs": [],
   "source": "#| export\n# Setup all Gemini routes using the encapsulated pattern\nsetup_gemini_routes(rt)"
  },
  {
   "cell_type": "markdown",
   "id": "acb140e6",
   "metadata": {},
   "source": [
    "# export"
   ]
  },
  {
   "cell_type": "code",
   "execution_count": 22,
   "id": "17b8c3b5",
   "metadata": {},
   "outputs": [],
   "source": [
    "#| hide\n",
    "import nbdev; nbdev.nbdev_export()"
   ]
  },
  {
   "cell_type": "code",
   "execution_count": null,
   "id": "8433876b",
   "metadata": {},
   "outputs": [],
   "source": []
  }
 ],
 "metadata": {
  "kernelspec": {
   "display_name": ".venv",
   "language": "python",
   "name": "python3"
  },
  "language_info": {
   "codemirror_mode": {
    "name": "ipython",
    "version": 3
   },
   "file_extension": ".py",
   "mimetype": "text/x-python",
   "name": "python",
   "nbconvert_exporter": "python",
   "pygments_lexer": "ipython3",
   "version": "3.12.8"
  }
 },
 "nbformat": 4,
 "nbformat_minor": 5
}