{
 "cells": [
  {
   "cell_type": "markdown",
   "metadata": {},
   "source": [
    "# Core Module\n",
    "\n",
    "> Core functionality for the context_writer package"
   ]
  },
  {
   "cell_type": "code",
   "execution_count": 1,
   "metadata": {},
   "outputs": [],
   "source": [
    "#| default_exp core"
   ]
  },
  {
   "cell_type": "markdown",
   "metadata": {},
   "source": [
    "## Imports"
   ]
  },
  {
   "cell_type": "code",
   "execution_count": 2,
   "metadata": {},
   "outputs": [],
   "source": [
    "#| export\n",
    "from typing import Dict, Any\n",
    "\n",
    "# Testing imports (not exported)\n",
    "from fastcore.test import test_eq, test_ne"
   ]
  },
  {
   "cell_type": "markdown",
   "metadata": {},
   "source": [
    "## Secret Configuration\n",
    "\n",
    "Let's create a function that provides our secret word for the application:"
   ]
  },
  {
   "cell_type": "code",
   "execution_count": 3,
   "metadata": {},
   "outputs": [],
   "source": [
    "#| export\n",
    "def get_secret_word() -> str:\n",
    "    \"\"\"Return the secret word for the application.\n",
    "    \n",
    "    This is a test function to verify nbdev integration is working.\n",
    "    \"\"\"\n",
    "    return \"🚀 NBDEV-POWERED\""
   ]
  },
  {
   "cell_type": "markdown",
   "metadata": {},
   "source": [
    "Let's test our function immediately:"
   ]
  },
  {
   "cell_type": "code",
   "execution_count": null,
   "metadata": {},
   "outputs": [
    {
     "name": "stdout",
     "output_type": "stream",
     "text": [
      "✅ Secret word: 🚀 NBDEV-POWERED\n"
     ]
    }
   ],
   "source": [
    "# Test the function with fastcore.test\n",
    "test_eq(get_secret_word(), \"🚀 NBDEV-POWERED\")\n",
    "test_ne(get_secret_word(), \"\")  # Should not be empty\n",
    "test_ne(get_secret_word(), None)  # Should not be None\n",
    "print(f\"✅ Secret word: {get_secret_word()}\")"
   ]
  },
  {
   "cell_type": "markdown",
   "metadata": {},
   "source": [
    "## Application Info\n",
    "\n",
    "Let's also create a more complex example with a class:"
   ]
  },
  {
   "cell_type": "code",
   "execution_count": null,
   "metadata": {},
   "outputs": [],
   "source": [
    "#| export\n",
    "class AppConfig:\n",
    "    \"\"\"Configuration for the context_writer application.\"\"\"\n",
    "    \n",
    "    def __init__(self, app_name: str = \"Context Writer\"):\n",
    "        self.app_name = app_name\n",
    "        self.version = \"0.0.1\"\n",
    "        self.secret = get_secret_word()\n",
    "    \n",
    "    def get_title(self) -> str:\n",
    "        \"\"\"Get the full application title including the secret word.\"\"\"\n",
    "        return f\"{self.app_name} - {self.secret}\"\n",
    "    \n",
    "    def get_info(self) -> Dict[str, Any]:\n",
    "        \"\"\"Get application information as a dictionary.\"\"\"\n",
    "        return {\n",
    "            \"name\": self.app_name,\n",
    "            \"version\": self.version,\n",
    "            \"secret\": self.secret,\n",
    "            \"powered_by\": \"nbdev + FastHTML\"\n",
    "        }"
   ]
  },
  {
   "cell_type": "markdown",
   "metadata": {},
   "source": [
    "Test the AppConfig class:"
   ]
  },
  {
   "cell_type": "code",
   "execution_count": null,
   "metadata": {},
   "outputs": [
    {
     "name": "stdout",
     "output_type": "stream",
     "text": [
      "✅ AppConfig class working correctly\n"
     ]
    }
   ],
   "source": [
    "# Test the class with fastcore.test\n",
    "config = AppConfig()\n",
    "test_eq(config.app_name, \"Context Writer\")\n",
    "test_eq(config.version, \"0.0.1\")\n",
    "test_eq(config.secret, \"🚀 NBDEV-POWERED\")\n",
    "test_eq(config.get_title(), \"Context Writer - 🚀 NBDEV-POWERED\")\n",
    "\n",
    "# Test with custom name\n",
    "custom_config = AppConfig(\"My Writing Tool\")\n",
    "test_eq(custom_config.app_name, \"My Writing Tool\")\n",
    "test_eq(custom_config.get_title(), \"My Writing Tool - 🚀 NBDEV-POWERED\")\n",
    "\n",
    "# Test get_info method\n",
    "info = config.get_info()\n",
    "test_eq(info[\"name\"], \"Context Writer\")\n",
    "test_eq(info[\"version\"], \"0.0.1\")\n",
    "test_eq(info[\"powered_by\"], \"nbdev + FastHTML\")\n",
    "\n",
    "print(\"✅ AppConfig class working correctly\")"
   ]
  },
  {
   "cell_type": "code",
   "execution_count": null,
   "metadata": {},
   "outputs": [],
   "source": [
    "#| hide\n",
    "import nbdev; nbdev.nbdev_export()"
   ]
  }
 ],
 "metadata": {
  "kernelspec": {
   "display_name": ".venv",
   "language": "python",
   "name": "python3"
  },
  "language_info": {
   "codemirror_mode": {
    "name": "ipython",
    "version": 3
   },
   "file_extension": ".py",
   "mimetype": "text/x-python",
   "name": "python",
   "nbconvert_exporter": "python",
   "pygments_lexer": "ipython3",
   "version": "3.12.8"
  }
 },
 "nbformat": 4,
 "nbformat_minor": 4
}
