{
 "cells": [
  {
   "cell_type": "markdown",
   "id": "ad3d3eb1",
   "metadata": {},
   "source": [
    "# Gemini Experiments\n",
    "Exploring the Gemini API."
   ]
  },
  {
   "cell_type": "code",
   "execution_count": 1,
   "id": "b9851ca0",
   "metadata": {},
   "outputs": [],
   "source": [
    "#| default_exp gemini_experiments\n"
   ]
  },
  {
   "cell_type": "code",
   "execution_count": 2,
   "id": "be03f923",
   "metadata": {},
   "outputs": [],
   "source": [
    "#| export\n",
    "from fasthtml.common import *\n",
    "from monsterui.all import *"
   ]
  },
  {
   "cell_type": "markdown",
   "id": "3474e7d9",
   "metadata": {},
   "source": [
    "## Step 1: Basic page"
   ]
  },
  {
   "cell_type": "code",
   "execution_count": 3,
   "id": "494c9dd5",
   "metadata": {},
   "outputs": [],
   "source": [
    "#| export\n",
    "def gemini_results_section():\n",
    "    return Div(id=\"results\", cls=\"mt-4\")"
   ]
  },
  {
   "cell_type": "code",
   "execution_count": 4,
   "id": "85642f62",
   "metadata": {},
   "outputs": [],
   "source": [
    "#| export\n",
    "def gemini_input_form():\n",
    "    return Form(\n",
    "        Div(\n",
    "            Label(\"Prompt\", _for=\"prompt\", cls=\"text-sm font-medium mb-2 block text-white border-none bg-transparent\"),\n",
    "            TextArea(id=\"prompt\", rows=\"4\", cls=\"bg-white text-gray-900 border-gray-300 min-h-24 w-full rounded-md border p-2\")\n",
    "        ),\n",
    "        Button(\"Run Experiment\", cls=ButtonT.primary),\n",
    "        hx_post=\"/gemini/run\",\n",
    "        hx_target=\"#results\"\n",
    "    )"
   ]
  },
  {
   "cell_type": "code",
   "execution_count": 5,
   "id": "7e3a36a4",
   "metadata": {},
   "outputs": [],
   "source": [
    "\n",
    "#| export\n",
    "def gemini_experiment_page():\n",
    "    return Container(\n",
    "        H1(\"Gemini Experiments\"),\n",
    "        P(\"Experiment with Gemini AI capabilities\"),\n",
    "        gemini_input_form(),\n",
    "        gemini_results_section()\n",
    "    )\n"
   ]
  },
  {
   "cell_type": "markdown",
   "id": "84481ef5",
   "metadata": {},
   "source": [
    "## Step 2: Add form for input"
   ]
  },
  {
   "cell_type": "code",
   "execution_count": 6,
   "id": "668d5304",
   "metadata": {},
   "outputs": [],
   "source": [
    "#| export\n",
    "def run_gemini_experiment(prompt: str):\n",
    "    \"\"\"Handle Gemini API calls and return results.\"\"\"\n",
    "    # For now, return a mock response\n",
    "    return Div(\n",
    "        H4(\"Experiment Results\", cls=\"text-gray-900 font-semibold\"),\n",
    "        P(f\"You submitted: {prompt}\", cls=\"text-gray-800\"),\n",
    "        P(\"Gemini response will go here...\", cls=\"text-gray-700\"),\n",
    "        cls=\"p-6 bg-white border border-gray-200 rounded-lg shadow-sm\"\n",
    "    )"
   ]
  },
  {
   "cell_type": "markdown",
   "id": "20c4e545",
   "metadata": {},
   "source": [
    "## Step 3: Results display\n"
   ]
  },
  {
   "cell_type": "code",
   "execution_count": 7,
   "id": "d94979d7",
   "metadata": {},
   "outputs": [
    {
     "name": "stdout",
     "output_type": "stream",
     "text": [
      "✅ Form component working\n"
     ]
    }
   ],
   "source": [
    "#| hide\n",
    "# Test each component immediately\n",
    "form = gemini_input_form()\n",
    "print(\"✅ Form component working\")\n"
   ]
  },
  {
   "cell_type": "markdown",
   "id": "t9q7871qlig",
   "metadata": {},
   "source": [
    "## Route Setup\n",
    "Encapsulate all Gemini routes in a single setup function"
   ]
  },
  {
   "cell_type": "code",
   "execution_count": 8,
   "id": "ig0xmdse0v",
   "metadata": {},
   "outputs": [],
   "source": [
    "#| export\n",
    "def setup_gemini_routes(rt):\n",
    "    \"\"\"Add all Gemini routes to the FastHTML router.\"\"\"\n",
    "\n",
    "    @rt(\"/gemini\")\n",
    "    def gemini_page():\n",
    "        return gemini_experiment_page()\n",
    "\n",
    "    @rt(\"/gemini/run\")\n",
    "    def run_experiment(prompt: str):\n",
    "        return run_gemini_experiment(prompt)"
   ]
  },
  {
   "cell_type": "code",
   "execution_count": 9,
   "id": "k0lw0crzs4b",
   "metadata": {},
   "outputs": [
    {
     "name": "stdout",
     "output_type": "stream",
     "text": [
      "✅ Route setup function working\n"
     ]
    }
   ],
   "source": [
    "#| hide\n",
    "# Test the route setup function\n",
    "from fasthtml.common import fast_app\n",
    "test_app, test_rt = fast_app()\n",
    "setup_gemini_routes(test_rt)\n",
    "print(\"✅ Route setup function working\")"
   ]
  },
  {
   "cell_type": "code",
   "execution_count": 10,
   "id": "3e9346a5",
   "metadata": {},
   "outputs": [],
   "source": [
    "#| export\n",
    "import nbdev; nbdev.nbdev_export()"
   ]
  },
  {
   "cell_type": "code",
   "execution_count": null,
   "id": "e3798c65",
   "metadata": {},
   "outputs": [],
   "source": []
  }
 ],
 "metadata": {
  "kernelspec": {
   "display_name": ".venv",
   "language": "python",
   "name": "python3"
  },
  "language_info": {
   "codemirror_mode": {
    "name": "ipython",
    "version": 3
   },
   "file_extension": ".py",
   "mimetype": "text/x-python",
   "name": "python",
   "nbconvert_exporter": "python",
   "pygments_lexer": "ipython3",
   "version": "3.12.8"
  }
 },
 "nbformat": 4,
 "nbformat_minor": 5
}
